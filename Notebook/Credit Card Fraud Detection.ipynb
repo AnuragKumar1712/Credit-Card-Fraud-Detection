{
 "cells": [
  {
   "cell_type": "markdown",
   "id": "fbabafcd-39d8-47f4-a499-eeb90e5525f8",
   "metadata": {},
   "source": [
    "# Credit Card Fraud Detection"
   ]
  },
  {
   "cell_type": "markdown",
   "id": "14021f42-9859-4bb3-9253-e1a4baea17f8",
   "metadata": {},
   "source": [
    "## 🔹Step 1: Load and Inspect the Data"
   ]
  },
  {
   "cell_type": "code",
   "execution_count": 3,
   "id": "47ec2927-324d-44dd-82ab-b0b30bfc9ca6",
   "metadata": {},
   "outputs": [
    {
     "name": "stdout",
     "output_type": "stream",
     "text": [
      "Shape of the dataset: (284807, 31)\n"
     ]
    },
    {
     "data": {
      "text/html": [
       "<div>\n",
       "<style scoped>\n",
       "    .dataframe tbody tr th:only-of-type {\n",
       "        vertical-align: middle;\n",
       "    }\n",
       "\n",
       "    .dataframe tbody tr th {\n",
       "        vertical-align: top;\n",
       "    }\n",
       "\n",
       "    .dataframe thead th {\n",
       "        text-align: right;\n",
       "    }\n",
       "</style>\n",
       "<table border=\"1\" class=\"dataframe\">\n",
       "  <thead>\n",
       "    <tr style=\"text-align: right;\">\n",
       "      <th></th>\n",
       "      <th>Time</th>\n",
       "      <th>V1</th>\n",
       "      <th>V2</th>\n",
       "      <th>V3</th>\n",
       "      <th>V4</th>\n",
       "      <th>V5</th>\n",
       "      <th>V6</th>\n",
       "      <th>V7</th>\n",
       "      <th>V8</th>\n",
       "      <th>V9</th>\n",
       "      <th>...</th>\n",
       "      <th>V21</th>\n",
       "      <th>V22</th>\n",
       "      <th>V23</th>\n",
       "      <th>V24</th>\n",
       "      <th>V25</th>\n",
       "      <th>V26</th>\n",
       "      <th>V27</th>\n",
       "      <th>V28</th>\n",
       "      <th>Amount</th>\n",
       "      <th>Class</th>\n",
       "    </tr>\n",
       "  </thead>\n",
       "  <tbody>\n",
       "    <tr>\n",
       "      <th>0</th>\n",
       "      <td>0.0</td>\n",
       "      <td>-1.359807</td>\n",
       "      <td>-0.072781</td>\n",
       "      <td>2.536347</td>\n",
       "      <td>1.378155</td>\n",
       "      <td>-0.338321</td>\n",
       "      <td>0.462388</td>\n",
       "      <td>0.239599</td>\n",
       "      <td>0.098698</td>\n",
       "      <td>0.363787</td>\n",
       "      <td>...</td>\n",
       "      <td>-0.018307</td>\n",
       "      <td>0.277838</td>\n",
       "      <td>-0.110474</td>\n",
       "      <td>0.066928</td>\n",
       "      <td>0.128539</td>\n",
       "      <td>-0.189115</td>\n",
       "      <td>0.133558</td>\n",
       "      <td>-0.021053</td>\n",
       "      <td>149.62</td>\n",
       "      <td>0</td>\n",
       "    </tr>\n",
       "    <tr>\n",
       "      <th>1</th>\n",
       "      <td>0.0</td>\n",
       "      <td>1.191857</td>\n",
       "      <td>0.266151</td>\n",
       "      <td>0.166480</td>\n",
       "      <td>0.448154</td>\n",
       "      <td>0.060018</td>\n",
       "      <td>-0.082361</td>\n",
       "      <td>-0.078803</td>\n",
       "      <td>0.085102</td>\n",
       "      <td>-0.255425</td>\n",
       "      <td>...</td>\n",
       "      <td>-0.225775</td>\n",
       "      <td>-0.638672</td>\n",
       "      <td>0.101288</td>\n",
       "      <td>-0.339846</td>\n",
       "      <td>0.167170</td>\n",
       "      <td>0.125895</td>\n",
       "      <td>-0.008983</td>\n",
       "      <td>0.014724</td>\n",
       "      <td>2.69</td>\n",
       "      <td>0</td>\n",
       "    </tr>\n",
       "    <tr>\n",
       "      <th>2</th>\n",
       "      <td>1.0</td>\n",
       "      <td>-1.358354</td>\n",
       "      <td>-1.340163</td>\n",
       "      <td>1.773209</td>\n",
       "      <td>0.379780</td>\n",
       "      <td>-0.503198</td>\n",
       "      <td>1.800499</td>\n",
       "      <td>0.791461</td>\n",
       "      <td>0.247676</td>\n",
       "      <td>-1.514654</td>\n",
       "      <td>...</td>\n",
       "      <td>0.247998</td>\n",
       "      <td>0.771679</td>\n",
       "      <td>0.909412</td>\n",
       "      <td>-0.689281</td>\n",
       "      <td>-0.327642</td>\n",
       "      <td>-0.139097</td>\n",
       "      <td>-0.055353</td>\n",
       "      <td>-0.059752</td>\n",
       "      <td>378.66</td>\n",
       "      <td>0</td>\n",
       "    </tr>\n",
       "    <tr>\n",
       "      <th>3</th>\n",
       "      <td>1.0</td>\n",
       "      <td>-0.966272</td>\n",
       "      <td>-0.185226</td>\n",
       "      <td>1.792993</td>\n",
       "      <td>-0.863291</td>\n",
       "      <td>-0.010309</td>\n",
       "      <td>1.247203</td>\n",
       "      <td>0.237609</td>\n",
       "      <td>0.377436</td>\n",
       "      <td>-1.387024</td>\n",
       "      <td>...</td>\n",
       "      <td>-0.108300</td>\n",
       "      <td>0.005274</td>\n",
       "      <td>-0.190321</td>\n",
       "      <td>-1.175575</td>\n",
       "      <td>0.647376</td>\n",
       "      <td>-0.221929</td>\n",
       "      <td>0.062723</td>\n",
       "      <td>0.061458</td>\n",
       "      <td>123.50</td>\n",
       "      <td>0</td>\n",
       "    </tr>\n",
       "    <tr>\n",
       "      <th>4</th>\n",
       "      <td>2.0</td>\n",
       "      <td>-1.158233</td>\n",
       "      <td>0.877737</td>\n",
       "      <td>1.548718</td>\n",
       "      <td>0.403034</td>\n",
       "      <td>-0.407193</td>\n",
       "      <td>0.095921</td>\n",
       "      <td>0.592941</td>\n",
       "      <td>-0.270533</td>\n",
       "      <td>0.817739</td>\n",
       "      <td>...</td>\n",
       "      <td>-0.009431</td>\n",
       "      <td>0.798278</td>\n",
       "      <td>-0.137458</td>\n",
       "      <td>0.141267</td>\n",
       "      <td>-0.206010</td>\n",
       "      <td>0.502292</td>\n",
       "      <td>0.219422</td>\n",
       "      <td>0.215153</td>\n",
       "      <td>69.99</td>\n",
       "      <td>0</td>\n",
       "    </tr>\n",
       "  </tbody>\n",
       "</table>\n",
       "<p>5 rows × 31 columns</p>\n",
       "</div>"
      ],
      "text/plain": [
       "   Time        V1        V2        V3        V4        V5        V6        V7  \\\n",
       "0   0.0 -1.359807 -0.072781  2.536347  1.378155 -0.338321  0.462388  0.239599   \n",
       "1   0.0  1.191857  0.266151  0.166480  0.448154  0.060018 -0.082361 -0.078803   \n",
       "2   1.0 -1.358354 -1.340163  1.773209  0.379780 -0.503198  1.800499  0.791461   \n",
       "3   1.0 -0.966272 -0.185226  1.792993 -0.863291 -0.010309  1.247203  0.237609   \n",
       "4   2.0 -1.158233  0.877737  1.548718  0.403034 -0.407193  0.095921  0.592941   \n",
       "\n",
       "         V8        V9  ...       V21       V22       V23       V24       V25  \\\n",
       "0  0.098698  0.363787  ... -0.018307  0.277838 -0.110474  0.066928  0.128539   \n",
       "1  0.085102 -0.255425  ... -0.225775 -0.638672  0.101288 -0.339846  0.167170   \n",
       "2  0.247676 -1.514654  ...  0.247998  0.771679  0.909412 -0.689281 -0.327642   \n",
       "3  0.377436 -1.387024  ... -0.108300  0.005274 -0.190321 -1.175575  0.647376   \n",
       "4 -0.270533  0.817739  ... -0.009431  0.798278 -0.137458  0.141267 -0.206010   \n",
       "\n",
       "        V26       V27       V28  Amount  Class  \n",
       "0 -0.189115  0.133558 -0.021053  149.62      0  \n",
       "1  0.125895 -0.008983  0.014724    2.69      0  \n",
       "2 -0.139097 -0.055353 -0.059752  378.66      0  \n",
       "3 -0.221929  0.062723  0.061458  123.50      0  \n",
       "4  0.502292  0.219422  0.215153   69.99      0  \n",
       "\n",
       "[5 rows x 31 columns]"
      ]
     },
     "execution_count": 3,
     "metadata": {},
     "output_type": "execute_result"
    }
   ],
   "source": [
    "import pandas as pd\n",
    "\n",
    "# Correct relative path to go one folder up, then into 'Data'\n",
    "df = pd.read_csv('../Data/creditcard.csv')\n",
    "\n",
    "# Confirm the data loaded\n",
    "print(\"Shape of the dataset:\", df.shape)\n",
    "df.head()"
   ]
  },
  {
   "cell_type": "markdown",
   "id": "73956c36-e5eb-4bb3-a428-0c17b493a79e",
   "metadata": {},
   "source": [
    "## 🔹Step 2: Basic Data Exploration"
   ]
  },
  {
   "cell_type": "code",
   "execution_count": 5,
   "id": "82dc3031-180b-4a85-8a92-b0788eb2d7cd",
   "metadata": {},
   "outputs": [
    {
     "name": "stdout",
     "output_type": "stream",
     "text": [
      "<class 'pandas.core.frame.DataFrame'>\n",
      "RangeIndex: 284807 entries, 0 to 284806\n",
      "Data columns (total 31 columns):\n",
      " #   Column  Non-Null Count   Dtype  \n",
      "---  ------  --------------   -----  \n",
      " 0   Time    284807 non-null  float64\n",
      " 1   V1      284807 non-null  float64\n",
      " 2   V2      284807 non-null  float64\n",
      " 3   V3      284807 non-null  float64\n",
      " 4   V4      284807 non-null  float64\n",
      " 5   V5      284807 non-null  float64\n",
      " 6   V6      284807 non-null  float64\n",
      " 7   V7      284807 non-null  float64\n",
      " 8   V8      284807 non-null  float64\n",
      " 9   V9      284807 non-null  float64\n",
      " 10  V10     284807 non-null  float64\n",
      " 11  V11     284807 non-null  float64\n",
      " 12  V12     284807 non-null  float64\n",
      " 13  V13     284807 non-null  float64\n",
      " 14  V14     284807 non-null  float64\n",
      " 15  V15     284807 non-null  float64\n",
      " 16  V16     284807 non-null  float64\n",
      " 17  V17     284807 non-null  float64\n",
      " 18  V18     284807 non-null  float64\n",
      " 19  V19     284807 non-null  float64\n",
      " 20  V20     284807 non-null  float64\n",
      " 21  V21     284807 non-null  float64\n",
      " 22  V22     284807 non-null  float64\n",
      " 23  V23     284807 non-null  float64\n",
      " 24  V24     284807 non-null  float64\n",
      " 25  V25     284807 non-null  float64\n",
      " 26  V26     284807 non-null  float64\n",
      " 27  V27     284807 non-null  float64\n",
      " 28  V28     284807 non-null  float64\n",
      " 29  Amount  284807 non-null  float64\n",
      " 30  Class   284807 non-null  int64  \n",
      "dtypes: float64(30), int64(1)\n",
      "memory usage: 67.4 MB\n",
      "\n",
      "Missing values in each column:\n",
      "Time      0\n",
      "V1        0\n",
      "V2        0\n",
      "V3        0\n",
      "V4        0\n",
      "V5        0\n",
      "V6        0\n",
      "V7        0\n",
      "V8        0\n",
      "V9        0\n",
      "V10       0\n",
      "V11       0\n",
      "V12       0\n",
      "V13       0\n",
      "V14       0\n",
      "V15       0\n",
      "V16       0\n",
      "V17       0\n",
      "V18       0\n",
      "V19       0\n",
      "V20       0\n",
      "V21       0\n",
      "V22       0\n",
      "V23       0\n",
      "V24       0\n",
      "V25       0\n",
      "V26       0\n",
      "V27       0\n",
      "V28       0\n",
      "Amount    0\n",
      "Class     0\n",
      "dtype: int64\n",
      "\n",
      "Class distribution:\n",
      "Class\n",
      "0    284315\n",
      "1       492\n",
      "Name: count, dtype: int64\n"
     ]
    }
   ],
   "source": [
    "# Check data types and non-null counts\n",
    "df.info()\n",
    "\n",
    "# Check for missing values\n",
    "print(\"\\nMissing values in each column:\")\n",
    "print(df.isnull().sum())\n",
    "\n",
    "# Check class distribution (fraud vs non-fraud)\n",
    "print(\"\\nClass distribution:\")\n",
    "print(df['Class'].value_counts())"
   ]
  },
  {
   "cell_type": "markdown",
   "id": "734bf303-e474-4449-972a-51c3bd956c00",
   "metadata": {},
   "source": [
    "## 🔹Step 3: Visualize Class Imbalance"
   ]
  },
  {
   "cell_type": "markdown",
   "id": "94e2033c-f053-4102-9d82-bfab7f298ad9",
   "metadata": {},
   "source": [
    "Let’s create a simple count plot to visualize this imbalance."
   ]
  },
  {
   "cell_type": "code",
   "execution_count": 7,
   "id": "f354b74a-cbec-45c3-9260-42f0dc7f6a82",
   "metadata": {},
   "outputs": [
    {
     "data": {
      "image/png": "[encoded data removed]",
      "text/plain": [
       "<Figure size 600x400 with 1 Axes>"
      ]
     },
     "metadata": {},
     "output_type": "display_data"
    }
   ],
   "source": [
    "import matplotlib.pyplot as plt\n",
    "import seaborn as sns\n",
    "\n",
    "plt.figure(figsize=(6, 4))\n",
    "sns.countplot(x='Class', data=df)\n",
    "plt.title('Transaction Class Distribution')\n",
    "plt.xlabel('Class (0 = Not Fraud, 1 = Fraud)')\n",
    "plt.ylabel('Count')\n",
    "plt.show()"
   ]
  },
  {
   "cell_type": "markdown",
   "id": "813e7d8d-c970-43b6-adf9-dec586231dfc",
   "metadata": {},
   "source": [
    "## 🔹Step 4: Feature Scaling"
   ]
  },
  {
   "cell_type": "markdown",
   "id": "a56d6be9-45c5-4732-9d31-a548e56cf3d1",
   "metadata": {},
   "source": [
    "Now we’ll standardize the only two features that need it:\n",
    "\n",
    "Time — seconds since first transaction\n",
    "\n",
    "Amount — transaction value\n",
    "\n",
    "These haven’t been PCA-transformed like V1–V28, so scaling them helps many models perform better."
   ]
  },
  {
   "cell_type": "code",
   "execution_count": 9,
   "id": "e884bf2a-baf3-4ea6-b419-fa0cc7b1fe3e",
   "metadata": {},
   "outputs": [],
   "source": [
    "from sklearn.preprocessing import StandardScaler\n",
    "\n",
    "# Create scaled versions\n",
    "df['scaled_time'] = StandardScaler().fit_transform(df[['Time']])\n",
    "df['scaled_amount'] = StandardScaler().fit_transform(df[['Amount']])\n",
    "\n",
    "# Drop original columns\n",
    "df.drop(['Time', 'Amount'], axis=1, inplace=True)\n",
    "\n",
    "# Reorder columns: scaled_time, scaled_amount, V1–V28, Class\n",
    "scaled_cols = ['scaled_time', 'scaled_amount']\n",
    "pca_cols = [col for col in df.columns if col not in scaled_cols + ['Class']]\n",
    "df = df[scaled_cols + pca_cols + ['Class']]"
   ]
  },
  {
   "cell_type": "markdown",
   "id": "7d8b8832-34c4-43c4-8a34-3410dd773376",
   "metadata": {},
   "source": [
    "## 🔹Step 5: Split the Dataset"
   ]
  },
  {
   "cell_type": "markdown",
   "id": "0bc83efb-ac52-48cc-b664-0500c2e984c6",
   "metadata": {},
   "source": [
    "Now let’s split the data into features (X) and target (y), then create training and test sets.\n",
    "\n",
    "We’ll use a stratified split to ensure both sets have the same fraud ratio."
   ]
  },
  {
   "cell_type": "code",
   "execution_count": 11,
   "id": "d5c4f4ff-1756-4cff-aa26-1dcb33989fed",
   "metadata": {},
   "outputs": [
    {
     "name": "stdout",
     "output_type": "stream",
     "text": [
      "Shape of X_train: (227845, 30)\n",
      "Shape of X_test: (56962, 30)\n",
      "Fraud cases in training set: 394\n",
      "Fraud cases in test set: 98\n"
     ]
    }
   ],
   "source": [
    "from sklearn.model_selection import train_test_split\n",
    "\n",
    "# Split features and target\n",
    "X = df.drop('Class', axis=1)\n",
    "y = df['Class']\n",
    "\n",
    "# Stratified split to maintain class distribution\n",
    "X_train, X_test, y_train, y_test = train_test_split(\n",
    "    X, y, test_size=0.2, random_state=42, stratify=y\n",
    ")\n",
    "\n",
    "print(\"Shape of X_train:\", X_train.shape)\n",
    "print(\"Shape of X_test:\", X_test.shape)\n",
    "print(\"Fraud cases in training set:\", sum(y_train))\n",
    "print(\"Fraud cases in test set:\", sum(y_test))"
   ]
  },
  {
   "cell_type": "markdown",
   "id": "c049a5ea-d3fa-4be0-8444-c4130818cb3d",
   "metadata": {},
   "source": [
    "## 🔹Step 6: Train a Baseline Classifier"
   ]
  },
  {
   "cell_type": "markdown",
   "id": "fad7fbae-7b62-45a1-984f-263b00c31f57",
   "metadata": {},
   "source": [
    "Let’s start with Logistic Regression — simple, interpretable, and works well as a baseline.\n",
    "\n",
    "We’ll handle class imbalance using class_weight='balanced', which tells the model to pay more attention to minority class (fraud)."
   ]
  },
  {
   "cell_type": "code",
   "execution_count": 13,
   "id": "04936363-f001-4f80-b62a-1603a4625e5f",
   "metadata": {},
   "outputs": [
    {
     "name": "stdout",
     "output_type": "stream",
     "text": [
      "Classification Report:\n",
      "               precision    recall  f1-score   support\n",
      "\n",
      "           0     0.9999    0.9756    0.9876     56864\n",
      "           1     0.0609    0.9184    0.1141        98\n",
      "\n",
      "    accuracy                         0.9755     56962\n",
      "   macro avg     0.5304    0.9470    0.5509     56962\n",
      "weighted avg     0.9982    0.9755    0.9861     56962\n",
      "\n",
      "\n",
      "Confusion Matrix:\n",
      " [[55475  1389]\n",
      " [    8    90]]\n"
     ]
    }
   ],
   "source": [
    "from sklearn.linear_model import LogisticRegression\n",
    "from sklearn.metrics import classification_report, confusion_matrix\n",
    "\n",
    "# Initialize and train\n",
    "lr = LogisticRegression(max_iter=1000, class_weight='balanced', random_state=42)\n",
    "lr.fit(X_train, y_train)\n",
    "\n",
    "# Predict\n",
    "y_pred = lr.predict(X_test)\n",
    "\n",
    "# Evaluate\n",
    "print(\"Classification Report:\\n\", classification_report(y_test, y_pred, digits=4))\n",
    "print(\"\\nConfusion Matrix:\\n\", confusion_matrix(y_test, y_pred))"
   ]
  },
  {
   "cell_type": "markdown",
   "id": "01da50bf-d5b8-4684-9d57-474f135604bf",
   "metadata": {},
   "source": [
    "## 🔹Step 7: Train a Random Forest Classifier"
   ]
  },
  {
   "cell_type": "markdown",
   "id": "1226b1c9-12de-47dd-911b-15ad12e6928a",
   "metadata": {},
   "source": [
    "Random Forest is great for:\n",
    "- Handling imbalanced datasets (with class_weight='balanced')\n",
    "- Capturing nonlinear patterns better than logistic regression"
   ]
  },
  {
   "cell_type": "code",
   "execution_count": 15,
   "id": "eea95e03-32ba-4530-a2b7-ca68753553e7",
   "metadata": {},
   "outputs": [
    {
     "name": "stdout",
     "output_type": "stream",
     "text": [
      "Random Forest Classification Report:\n",
      "               precision    recall  f1-score   support\n",
      "\n",
      "           0     0.9996    0.9999    0.9998     56864\n",
      "           1     0.9605    0.7449    0.8391        98\n",
      "\n",
      "    accuracy                         0.9995     56962\n",
      "   macro avg     0.9800    0.8724    0.9194     56962\n",
      "weighted avg     0.9995    0.9995    0.9995     56962\n",
      "\n",
      "\n",
      "Confusion Matrix:\n",
      " [[56861     3]\n",
      " [   25    73]]\n"
     ]
    }
   ],
   "source": [
    "from sklearn.ensemble import RandomForestClassifier\n",
    "\n",
    "# Initialize and train\n",
    "rf = RandomForestClassifier(n_estimators=100, class_weight='balanced', random_state=42)\n",
    "rf.fit(X_train, y_train)\n",
    "\n",
    "# Predict\n",
    "y_pred_rf = rf.predict(X_test)\n",
    "\n",
    "# Evaluate\n",
    "from sklearn.metrics import classification_report, confusion_matrix\n",
    "\n",
    "print(\"Random Forest Classification Report:\\n\", classification_report(y_test, y_pred_rf, digits=4))\n",
    "print(\"\\nConfusion Matrix:\\n\", confusion_matrix(y_test, y_pred_rf))"
   ]
  },
  {
   "cell_type": "markdown",
   "id": "762deeb7-c576-4434-a9dd-b8a5eacbde47",
   "metadata": {},
   "source": [
    "### ✅ Random Forest Classifier Evaluation\n",
    "🔹 Confusion Matrix:\n",
    "False Negatives (missed frauds) dropped from 8 → 25<br>\n",
    "False Positives (flagging legit as fraud) dropped massively: 1389 → 3 🤯\n",
    "<br>\n",
    "### 🔹 Comparison: Logistic Regression vs Random Forest\n",
    "\n",
    "<table>\n",
    "    <tr>\n",
    "        <th>Metric</th>\n",
    "        <th>Logistic Regression</th>\n",
    "        <th>Random Forest</th>\n",
    "    </tr>\n",
    "    <tr>\n",
    "        <td>Precision (fraud)</td>\n",
    "        <td>6.09% </td>\n",
    "        <td>96.05% ✅</td>\n",
    "    </tr>\n",
    "    <tr>\n",
    "        <td>Recall (fraud)</td>\n",
    "        <td>91.84%✅</td>\n",
    "        <td>74.49%</td>\n",
    "    </tr>\n",
    "    <tr>\n",
    "        <td>F1-score (fraud)</td>\n",
    "        <td>11.41% </td>\n",
    "        <td>83.91%✅</td>\n",
    "    </tr>\n",
    "    <tr>\n",
    "        <td>Accuracy</td>\n",
    "        <td>97.55%</td>\n",
    "        <td>99.95%✅</td>\n",
    "    </tr>\n",
    "</table>\n",
    "Logistic Regression = high recall, low precision (catches more but over-flags)\n",
    "\n",
    "Random Forest = balanced precision and recall, great overall"
   ]
  },
  {
   "cell_type": "markdown",
   "id": "11b01e34-58d6-49a4-b456-8f81517819ed",
   "metadata": {},
   "source": [
    "## 🔹Step 8: ROC Curve & AUC – Visual Evaluation"
   ]
  },
  {
   "cell_type": "markdown",
   "id": "3bf4cf85-5ce9-44d6-b1e4-60f78961a721",
   "metadata": {},
   "source": [
    "This will help you understand how well your model distinguishes between classes (fraud vs. legit) at various thresholds."
   ]
  },
  {
   "cell_type": "code",
   "execution_count": 17,
   "id": "63ac7b01-a7f4-4746-b853-114a70cde73e",
   "metadata": {},
   "outputs": [
    {
     "data": {
      "image/png": "[encoded data removed]",
      "text/plain": [
       "<Figure size 800x600 with 1 Axes>"
      ]
     },
     "metadata": {},
     "output_type": "display_data"
    }
   ],
   "source": [
    "from sklearn.metrics import roc_curve, auc\n",
    "import matplotlib.pyplot as plt\n",
    "\n",
    "# Get predicted probabilities\n",
    "y_scores = rf.predict_proba(X_test)[:, 1]\n",
    "\n",
    "# Compute ROC curve and AUC\n",
    "fpr, tpr, thresholds = roc_curve(y_test, y_scores)\n",
    "roc_auc = auc(fpr, tpr)\n",
    "\n",
    "# Plot\n",
    "plt.figure(figsize=(8, 6))\n",
    "plt.plot(fpr, tpr, color='darkorange', lw=2, label=f\"ROC Curve (AUC = {roc_auc:.4f})\")\n",
    "plt.plot([0, 1], [0, 1], color='navy', lw=2, linestyle='--')\n",
    "plt.xlabel(\"False Positive Rate\")\n",
    "plt.ylabel(\"True Positive Rate\")\n",
    "plt.title(\"Receiver Operating Characteristic (ROC) Curve\")\n",
    "plt.legend(loc=\"lower right\")\n",
    "plt.grid()\n",
    "plt.show()"
   ]
  },
  {
   "cell_type": "markdown",
   "id": "e5b3d55e-b429-4ebe-8973-c50014b5d495",
   "metadata": {},
   "source": [
    "## 🔹Step 9: Feature Importance"
   ]
  },
  {
   "cell_type": "markdown",
   "id": "44bb50a8-af89-44fb-bfc7-bab620b2ac52",
   "metadata": {},
   "source": [
    "Let’s find out which features your Random Forest used most to detect fraud. Even though the features are anonymized (V1–V28), this helps in:\n",
    "- Understanding model behavior\n",
    "- Improving explainability in presentations\n",
    "- Selecting features in future models"
   ]
  },
  {
   "cell_type": "code",
   "execution_count": 19,
   "id": "814d28c5-fd62-41d5-a897-6db73843a5cf",
   "metadata": {},
   "outputs": [
    {
     "data": {
      "image/png": "[encoded data removed]",
      "text/plain": [
       "<Figure size 1000x600 with 1 Axes>"
      ]
     },
     "metadata": {},
     "output_type": "display_data"
    }
   ],
   "source": [
    "import pandas as pd\n",
    "import numpy as np\n",
    "import matplotlib.pyplot as plt\n",
    "\n",
    "# Get feature importances\n",
    "importances = rf.feature_importances_\n",
    "features = X_train.columns\n",
    "indices = np.argsort(importances)[::-1]\n",
    "\n",
    "# Plot\n",
    "plt.figure(figsize=(10, 6))\n",
    "plt.title(\"Feature Importance (Random Forest)\")\n",
    "plt.bar(range(10), importances[indices[:10]], align='center')\n",
    "plt.xticks(range(10), features[indices[:10]], rotation=45)\n",
    "plt.tight_layout()\n",
    "plt.grid(True)\n",
    "plt.show()"
   ]
  },
  {
   "cell_type": "code",
   "execution_count": null,
   "id": "a60d5f02-f128-41d7-a148-3b636495f9db",
   "metadata": {},
   "outputs": [],
   "source": []
  }
 ],
 "metadata": {
  "kernelspec": {
   "display_name": "Python 3 (ipykernel)",
   "language": "python",
   "name": "python3"
  },
  "language_info": {
   "codemirror_mode": {
    "name": "ipython",
    "version": 3
   },
   "file_extension": ".py",
   "mimetype": "text/x-python",
   "name": "python",
   "nbconvert_exporter": "python",
   "pygments_lexer": "ipython3",
   "version": "3.12.4"
  }
 },
 "nbformat": 4,
 "nbformat_minor": 5
}
